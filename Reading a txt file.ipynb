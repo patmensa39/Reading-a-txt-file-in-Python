{
 "cells": [
  {
   "cell_type": "code",
   "execution_count": null,
   "metadata": {},
   "outputs": [],
   "source": [
    "#Reading a txt file called worms\n",
    "\n",
    "def read_text_file(file_path):\n",
    "    try:\n",
    "        with open(file_path, 'r') as file:\n",
    "            contents = file.read()\n",
    "            print(contents)\n",
    "    except FileNotFoundError:\n",
    "        print(\"Error: File not found.\")\n",
    "    except Exception as e:\n",
    "        print(\"An error occurred:\", str(e))\n",
    "\n",
    "if __name__ == \"__main__\":\n",
    "    file_path = r\"C:\\Users\\patme\\OneDrive\\Desktop\\Data_Science\\Python\\data\\worms.txt\"\n",
    "    read_text_file(file_path)\n",
    "\n"
   ]
  },
  {
   "cell_type": "code",
   "execution_count": null,
   "metadata": {},
   "outputs": [],
   "source": [
    "#Reading a txt file called inpatient.txt. This file is quite heavy. \n",
    "def read_text_file(file_path):\n",
    "    try:\n",
    "        with open(file_path, 'r') as file:\n",
    "            contents = file.read()\n",
    "            print(contents)\n",
    "    except FileNotFoundError:\n",
    "        print(\"Error: File not found.\")\n",
    "    except Exception as e:\n",
    "        print(\"An error occurred:\", str(e))\n",
    "\n",
    "if __name__ == \"__main__\":\n",
    "    file_path = r\"C:\\Users\\patme\\OneDrive\\Desktop\\Data_Science\\Python\\data\\inpatient.txt\"\n",
    "    read_text_file(file_path)"
   ]
  }
 ],
 "metadata": {
  "kernelspec": {
   "display_name": "Python 3",
   "language": "python",
   "name": "python3"
  },
  "language_info": {
   "codemirror_mode": {
    "name": "ipython",
    "version": 3
   },
   "file_extension": ".py",
   "mimetype": "text/x-python",
   "name": "python",
   "nbconvert_exporter": "python",
   "pygments_lexer": "ipython3",
   "version": "3.12.2"
  }
 },
 "nbformat": 4,
 "nbformat_minor": 2
}
